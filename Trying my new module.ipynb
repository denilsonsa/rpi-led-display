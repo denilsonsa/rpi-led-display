{
 "cells": [
  {
   "cell_type": "code",
   "execution_count": null,
   "metadata": {},
   "outputs": [],
   "source": [
    "from time import sleep\n",
    "from tm1640 import TM1640"
   ]
  },
  {
   "cell_type": "markdown",
   "metadata": {},
   "source": [
    "# Simple and elegant usage"
   ]
  },
  {
   "cell_type": "code",
   "execution_count": null,
   "metadata": {},
   "outputs": [],
   "source": [
    "with TM1640(clk_pin=24, din_pin=23) as d:\n",
    "    d.brightness = 0\n",
    "    d.write_text('HELLO')\n",
    "    for i in [1,1,1,1,1, -1,-1,-1,-1,-1]:\n",
    "        sleep(1)\n",
    "        d.brightness += i"
   ]
  },
  {
   "cell_type": "markdown",
   "metadata": {},
   "source": [
    "# Global object for the purposes of this notebook"
   ]
  },
  {
   "cell_type": "code",
   "execution_count": null,
   "metadata": {},
   "outputs": [],
   "source": [
    "disp = TM1640(clk_pin=24, din_pin=23)"
   ]
  },
  {
   "cell_type": "code",
   "execution_count": null,
   "metadata": {},
   "outputs": [],
   "source": [
    "disp.brightness = 1"
   ]
  },
  {
   "cell_type": "markdown",
   "metadata": {},
   "source": [
    "# Showing some garbage"
   ]
  },
  {
   "cell_type": "code",
   "execution_count": null,
   "metadata": {},
   "outputs": [],
   "source": [
    "disp.write_bytes(b'0123456789abcdef')"
   ]
  },
  {
   "cell_type": "code",
   "execution_count": null,
   "metadata": {},
   "outputs": [],
   "source": [
    "disp.write_bytes([0xff, 0xef, 0b10000000, 0x63])"
   ]
  },
  {
   "cell_type": "code",
   "execution_count": null,
   "metadata": {},
   "outputs": [],
   "source": [
    "disp.write_bytes([0, 0x63, 0x5c, 0], 8)"
   ]
  },
  {
   "cell_type": "code",
   "execution_count": null,
   "metadata": {},
   "outputs": [],
   "source": [
    "import random\n",
    "for i in range(64):\n",
    "    disp.write_bytes(bytes(random.randrange(256) for b in range(16)))\n",
    "    sleep(1 / (i+1))"
   ]
  },
  {
   "cell_type": "markdown",
   "metadata": {},
   "source": [
    "# Testing different characters"
   ]
  },
  {
   "cell_type": "code",
   "execution_count": null,
   "metadata": {},
   "outputs": [],
   "source": [
    "disp.write_text('.01.02..03')"
   ]
  },
  {
   "cell_type": "code",
   "execution_count": null,
   "metadata": {},
   "outputs": [],
   "source": [
    "disp.write_text('0123456789 yYzZ')"
   ]
  },
  {
   "cell_type": "code",
   "execution_count": null,
   "metadata": {},
   "outputs": [],
   "source": [
    "disp.write_text('aAbBcCdDeEfFgGhH')"
   ]
  },
  {
   "cell_type": "code",
   "execution_count": null,
   "metadata": {},
   "outputs": [],
   "source": [
    "disp.write_text('iIjJkKlLmMnNoOpP')"
   ]
  },
  {
   "cell_type": "code",
   "execution_count": null,
   "metadata": {},
   "outputs": [],
   "source": [
    "disp.write_text('qQrRsStTuUvVwWxX')"
   ]
  },
  {
   "cell_type": "code",
   "execution_count": null,
   "metadata": {},
   "outputs": [],
   "source": [
    "disp.write_text('~!@#$%^&*()[]{}')"
   ]
  },
  {
   "cell_type": "code",
   "execution_count": null,
   "metadata": {},
   "outputs": [],
   "source": [
    "disp.write_text('-_¯\\'`\"+=,./\\\\:;')"
   ]
  },
  {
   "cell_type": "code",
   "execution_count": null,
   "metadata": {},
   "outputs": [],
   "source": [
    "disp.write_text('🯰🯱🯲🯳🯴🯵🯶🯷🯸🯹⁐ニ≡‾|‖')"
   ]
  },
  {
   "cell_type": "code",
   "execution_count": null,
   "metadata": {},
   "outputs": [],
   "source": [
    "disp.write_text('⌈⌉⌊⌋⎾⏋⎿⏌⌜⌝⌞⌟⌌⌍⌎⌏')"
   ]
  },
  {
   "cell_type": "code",
   "execution_count": null,
   "metadata": {},
   "outputs": [],
   "source": [
    "disp.write_text('⊦⊢⊣⎡⎢⎣⎤⎥⎦')"
   ]
  },
  {
   "cell_type": "code",
   "execution_count": null,
   "metadata": {},
   "outputs": [],
   "source": [
    "disp.write_text('⊏⊑⊐⊒⊓⊔⋂⋃Πμ')"
   ]
  },
  {
   "cell_type": "markdown",
   "metadata": {},
   "source": [
    "# Some progress bar simulations"
   ]
  },
  {
   "cell_type": "code",
   "execution_count": null,
   "metadata": {},
   "outputs": [],
   "source": [
    "import textwrap\n",
    "def animate(textarea):\n",
    "    for i in textwrap.dedent(textarea).strip().splitlines():\n",
    "        disp.write_text(i)\n",
    "        sleep(1)"
   ]
  },
  {
   "cell_type": "code",
   "execution_count": null,
   "metadata": {},
   "outputs": [],
   "source": [
    "animate('''\n",
    "    [   ]\n",
    "    [⁐  ]\n",
    "    [⁐⁐ ]\n",
    "    [⁐⁐⁐]\n",
    "''')"
   ]
  },
  {
   "cell_type": "code",
   "execution_count": null,
   "metadata": {},
   "outputs": [],
   "source": [
    "animate('''\n",
    "    [   ]\n",
    "    [.   ]\n",
    "    [..  ]\n",
    "    [... ]\n",
    "    [....]\n",
    "''')"
   ]
  },
  {
   "cell_type": "code",
   "execution_count": null,
   "metadata": {},
   "outputs": [],
   "source": [
    "animate('''\n",
    "    ⌈   ⌉\n",
    "    [   ⌉\n",
    "    [.   ⌉\n",
    "    [._  ⌉\n",
    "    [._.  ⌉\n",
    "    [._._ ⌉\n",
    "    [._._. ⌉\n",
    "    [._._._⌉\n",
    "    [._._._.⌉\n",
    "    [._._._.]\n",
    "''')"
   ]
  },
  {
   "cell_type": "code",
   "execution_count": null,
   "metadata": {},
   "outputs": [],
   "source": [
    "animate('''\n",
    "    [  ]\n",
    "    E  ]\n",
    "    8  ]\n",
    "    8| ]\n",
    "    8E ]\n",
    "    88 ]\n",
    "    88|]\n",
    "    88E]\n",
    "    888]\n",
    "    8880\n",
    "    8888\n",
    "''')"
   ]
  },
  {
   "cell_type": "code",
   "execution_count": null,
   "metadata": {},
   "outputs": [],
   "source": [
    "animate('''\n",
    "    ⎢   ⎥\n",
    "    ‖   ⎥\n",
    "    ‖⎢  ⎥\n",
    "    ‖‖  ⎥\n",
    "    ‖‖⎢ ⎥\n",
    "    ‖‖‖ ⎥\n",
    "    ‖‖‖⎢⎥\n",
    "    ‖‖‖‖⎥\n",
    "    ‖‖‖‖‖\n",
    "''')"
   ]
  },
  {
   "cell_type": "code",
   "execution_count": null,
   "metadata": {},
   "outputs": [],
   "source": [
    "from collections import namedtuple\n",
    "\n",
    "PBS = namedtuple('PBS', 'left middle right half full')  # PBS = Progress Bar Style\n",
    "\n",
    "progress_bar_styles = [\n",
    "    # ⌊ _ _ _ ⌋\n",
    "    PBS(0b_0011000, 0b_0001000, 0b_0001100, 0b0100000, 0b0100010),\n",
    "    # ⌊._._._.⌋\n",
    "    PBS(0b10011000, 0b10001000, 0b_0001100, 0b0100000, 0b0100010),\n",
    "    # ⌈ ¯ ¯ ¯ ⌉\n",
    "    PBS(0b_0100001, 0b_0000001, 0b_0000011, 0b0010000, 0b0010100),\n",
    "    # ‖.‖.‖. . .\n",
    "    PBS(0b10000000, 0b10000000, 0b10000000, 0b0110000, 0b0110110),\n",
    "    # ‖.‖.‖._._.\n",
    "    PBS(0b10001000, 0b10001000, 0b10001000, 0b0110000, 0b0110110),\n",
    "]\n",
    "\n",
    "\n",
    "def progress_bar(total, filled, theme):\n",
    "    assert total >= 1\n",
    "    assert isinstance(total, int)\n",
    "    bits = total * 2\n",
    "    marks = round(filled * 2)\n",
    "\n",
    "    buffer = [0] * total\n",
    "    buffer[0] |= theme.left\n",
    "    buffer[-1] |= theme.right\n",
    "    for i in range(total):\n",
    "        if i > 0 and i + 1 < total:\n",
    "            buffer[i] |= theme.middle\n",
    "        if i * 2 + 1 < marks:\n",
    "            buffer[i] |= theme.full\n",
    "        elif i * 2 < marks:\n",
    "            buffer[i] |= theme.half\n",
    "    return bytes(buffer)"
   ]
  },
  {
   "cell_type": "code",
   "execution_count": null,
   "metadata": {},
   "outputs": [],
   "source": [
    "def byteanimate(iterable, delay=1.0):\n",
    "    disp.write_text('')\n",
    "    for i in iterable:\n",
    "        disp.write_bytes(i)\n",
    "        sleep(delay)"
   ]
  },
  {
   "cell_type": "code",
   "execution_count": null,
   "metadata": {},
   "outputs": [],
   "source": [
    "for total in [1, 2, 3, 4, 8]:\n",
    "    for theme in progress_bar_styles:\n",
    "        byteanimate(\n",
    "            (progress_bar(total, i / 2, theme) for i in range(0, 2 * total + 1)),\n",
    "            1 / total\n",
    "        )"
   ]
  },
  {
   "cell_type": "code",
   "execution_count": null,
   "metadata": {},
   "outputs": [],
   "source": [
    "# This looks like a stereo VU meter.\n",
    "def double_progress_bar(total, top, bottom):\n",
    "    assert total >= 1\n",
    "    assert isinstance(total, int)\n",
    "    bits = total * 2\n",
    "    tops = round(top * 2)\n",
    "    bots = round(bottom * 2)\n",
    "\n",
    "    buffer = [0] * total\n",
    "    for i in range(total):\n",
    "        if i * 2 + 1 < tops:\n",
    "            buffer[i] |= 0b0100010\n",
    "        elif i * 2 < tops:\n",
    "            buffer[i] |= 0b0100000\n",
    "        if i * 2 + 1 < bots:\n",
    "            buffer[i] |= 0b0010100\n",
    "        elif i * 2 < bots:\n",
    "            buffer[i] |= 0b0010000\n",
    "    return bytes(buffer)"
   ]
  },
  {
   "cell_type": "code",
   "execution_count": null,
   "metadata": {},
   "outputs": [],
   "source": [
    "import math\n",
    "for total in [1, 2, 3, 8]:\n",
    "    for theme in progress_bar_styles:\n",
    "        byteanimate(\n",
    "            (double_progress_bar(\n",
    "                total,\n",
    "                (math.sin(2 * i * math.tau / 64) + 1) / 2 * total,\n",
    "                (math.cos(2 * i * math.tau / 64) + 1) / 2 * total\n",
    "            ) for i in range(0, 64)),\n",
    "            1 / 64\n",
    "        )"
   ]
  }
 ],
 "metadata": {
  "kernelspec": {
   "display_name": "Python 3",
   "language": "python",
   "name": "python3"
  },
  "language_info": {
   "codemirror_mode": {
    "name": "ipython",
    "version": 3
   },
   "file_extension": ".py",
   "mimetype": "text/x-python",
   "name": "python",
   "nbconvert_exporter": "python",
   "pygments_lexer": "ipython3",
   "version": "3.7.9"
  }
 },
 "nbformat": 4,
 "nbformat_minor": 4
}
